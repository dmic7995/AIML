{
 "cells": [
  {
   "cell_type": "markdown",
   "metadata": {},
   "source": [
    "# CONDITIONAL STATEMENTS EXERCISE"
   ]
  },
  {
   "cell_type": "markdown",
   "metadata": {},
   "source": [
    "---------------"
   ]
  },
  {
   "cell_type": "markdown",
   "metadata": {},
   "source": [
    "### 1. Check if a is equal to 10, If yes, print \"Hello\", else print \"Good Bye\"\n",
    "a = 56"
   ]
  },
  {
   "cell_type": "code",
   "execution_count": 4,
   "metadata": {},
   "outputs": [
    {
     "name": "stdout",
     "output_type": "stream",
     "text": [
      "Good Bye\n"
     ]
    }
   ],
   "source": [
    "a=56\n",
    "if(a==10):\n",
    "    print(\"Hello\")\n",
    "else:\n",
    "    print(\"Good Bye\")"
   ]
  },
  {
   "cell_type": "markdown",
   "metadata": {},
   "source": [
    "### 2. Check whether a number is even or odd\n",
    "a = 2020"
   ]
  },
  {
   "cell_type": "code",
   "execution_count": 5,
   "metadata": {},
   "outputs": [
    {
     "name": "stdout",
     "output_type": "stream",
     "text": [
      "The number is even.\n"
     ]
    }
   ],
   "source": [
    "a = 2020\n",
    "if(a%2==0):\n",
    "    print(\"The number is even.\")\n",
    "else:\n",
    "    print(\"The number is odd.\")"
   ]
  },
  {
   "cell_type": "markdown",
   "metadata": {},
   "source": [
    "### 3.  Check whether the area of the rectangle is greater than the perimeter of the rectangle\n",
    "length = 5\n",
    "breadth = 10\n",
    "\n",
    "Hint: Area of rectangle = length * breadth \n",
    "\n",
    "Hint: Perimeter of rectangle = 2 * (length + breadth)"
   ]
  },
  {
   "cell_type": "code",
   "execution_count": null,
   "metadata": {},
   "outputs": [],
   "source": [
    "length = 5\n",
    "breadth = 10\n",
    "area = length*breadth\n",
    "perimeter = 2*(length+breadth)\n",
    "if(area>perimeter):\n",
    "    print(\"The area of the rectangle is greater than the perimeter of the rectangle\")\n",
    "elif(area==perimeter):\n",
    "    print(\"The area of the rectangle is equal to the perimeter of the rectangle\")\n",
    "else:\n",
    "    print(\"The area of the rectangle is less than the perimeter of the reactangle\")"
   ]
  },
  {
   "cell_type": "markdown",
   "metadata": {},
   "source": [
    "### 4.Calculate the average marks of a student in 5 subjects and give grades accordingly:\n",
    "If average>90 then Grade = A\n",
    "\n",
    "If average>80 then Grade = B\n",
    "\n",
    "If average>70 then Grade = C\n",
    "\n",
    "If average>60 then Grade = D\n",
    "\n",
    "If average>50 then Grade = E\n",
    "\n",
    "else Fail\n",
    "\n",
    "Marks in subject 1= 72\n",
    "\n",
    "Marks in subject 2= 85\n",
    "\n",
    "Marks in subject 3= 96\n",
    "\n",
    "Marks in subject 4= 42\n",
    "\n",
    "Marks in subject 5= 95"
   ]
  },
  {
   "cell_type": "code",
   "execution_count": 7,
   "metadata": {},
   "outputs": [
    {
     "name": "stdout",
     "output_type": "stream",
     "text": [
      "Grade = C\n"
     ]
    }
   ],
   "source": [
    "average = (72+85+96+42+95)/5\n",
    "if(average>90):\n",
    "    print(\"Grade = A\")\n",
    "elif((average>80)&(average<=90)):\n",
    "    print(\"Grade = B\")\n",
    "elif((average>70)&(average<=80)):\n",
    "    print(\"Grade = C\")\n",
    "elif((average>60)&(average<=70)):\n",
    "    print(\"Grade = D\")\n",
    "elif((average>50)&(average<=60)):\n",
    "    print(\"Grade = E\")\n",
    "else:\n",
    "    print(\"Fail\")"
   ]
  },
  {
   "cell_type": "markdown",
   "metadata": {},
   "source": [
    "###  5.check if a triangle is equilateral, isosceles or scalene.\n",
    "\n",
    "Hint :\n",
    "1. An equilateral triangle is a triangle in which all three sides are equal.\n",
    "\n",
    "2. A scalene triangle is a triangle that has three unequal sides.\n",
    "\n",
    "3. An isosceles triangle is a triangle with (at least) two equal sides.\n",
    "\n",
    "Dimensions of triangle:\n",
    "\n",
    "side 1 = 6 \n",
    "\n",
    "side 2 = 8 \n",
    "\n",
    "side 3 = 12"
   ]
  },
  {
   "cell_type": "code",
   "execution_count": 14,
   "metadata": {},
   "outputs": [
    {
     "name": "stdout",
     "output_type": "stream",
     "text": [
      "The triangle is scalene.\n"
     ]
    }
   ],
   "source": [
    "side1 = 6\n",
    "side2 = 8\n",
    "side3 = 12\n",
    "\n",
    "if((side1==side2)&(side2==side3)&(side3==side1)):\n",
    "    print(\"The triangle is equilateral.\")\n",
    "elif((side1==side2)|(side2==side3)|(side3==side1)):\n",
    "    print(\"The triangle is isoscoles.\")\n",
    "else:\n",
    "    print(\"The triangle is scalene.\")"
   ]
  },
  {
   "cell_type": "markdown",
   "metadata": {},
   "source": [
    "### 6. Check if the word \"Data\" is present in the sentence \"I am a Data Scientist\". If found print \"It is present\" else print FALSE"
   ]
  },
  {
   "cell_type": "code",
   "execution_count": 18,
   "metadata": {},
   "outputs": [
    {
     "name": "stdout",
     "output_type": "stream",
     "text": [
      "It is present.\n"
     ]
    }
   ],
   "source": [
    "sentence = \"I am a Data Scientist.\"\n",
    "for i in sentence.split():\n",
    "    if(i==\"Data\"):\n",
    "        print(\"It is present.\")\n",
    "        break\n",
    "    else:\n",
    "        continue"
   ]
  },
  {
   "cell_type": "markdown",
   "metadata": {},
   "source": [
    "### 7. Write python code to check if a number is positive or negative."
   ]
  },
  {
   "cell_type": "code",
   "execution_count": 20,
   "metadata": {},
   "outputs": [
    {
     "name": "stdout",
     "output_type": "stream",
     "text": [
      "The number is negative\n"
     ]
    }
   ],
   "source": [
    "a = -10\n",
    "if(a>0):\n",
    "    print(\"The number is positive\")\n",
    "elif(a<0):\n",
    "    print(\"The number is negative\")"
   ]
  },
  {
   "cell_type": "markdown",
   "metadata": {},
   "source": [
    "### 8. x = 20 and y = 30. Write a python code to check if x is less than y."
   ]
  },
  {
   "cell_type": "code",
   "execution_count": 21,
   "metadata": {},
   "outputs": [
    {
     "name": "stdout",
     "output_type": "stream",
     "text": [
      "x is less than y\n"
     ]
    }
   ],
   "source": [
    "x=20\n",
    "y=30\n",
    "if(x<y):\n",
    "    print(\"x is less than y\")\n",
    "else:\n",
    "    print(\"x is greater than or equal to y\")"
   ]
  },
  {
   "cell_type": "markdown",
   "metadata": {},
   "source": [
    "### 9. Based on the users age, divide them into three groups \n",
    "    Group 1 : Age <18 , Minors who are not eligible to work\n",
    "    Group 2 : 18 < Age < 60 , Eligible to work\n",
    "    Group 3 : Age > 60, Too old to work as per govt. regulations. \n",
    "\n",
    "### Write a python code for the same"
   ]
  },
  {
   "cell_type": "code",
   "execution_count": 24,
   "metadata": {},
   "outputs": [
    {
     "name": "stdout",
     "output_type": "stream",
     "text": [
      "Person is a minor who is not eligible to work\n"
     ]
    }
   ],
   "source": [
    "age = 4\n",
    "if(age<18):\n",
    "    print(\"Person is a minor who is not eligible to work\")\n",
    "elif((age>18)&(age<60)):\n",
    "    print(\"Person is eligible to work\")\n",
    "else:\n",
    "    print(\"Person is too old to work according to government regulations\")"
   ]
  },
  {
   "cell_type": "markdown",
   "metadata": {},
   "source": [
    "### 10. From the age of 3 people determine the oldest person among them.\n",
    "Age of first person = 25\n",
    "\n",
    "Age of second person = 34\n",
    "\n",
    "Age of third person = 45"
   ]
  },
  {
   "cell_type": "code",
   "execution_count": 29,
   "metadata": {},
   "outputs": [
    {
     "name": "stdout",
     "output_type": "stream",
     "text": [
      "The oldest person among the three is the person with age 45\n"
     ]
    }
   ],
   "source": [
    "age1 = 25\n",
    "age2 = 34\n",
    "age3 = 45\n",
    "agevar = 0\n",
    "ages = [age1, age2, age3]\n",
    "for i in range(3):\n",
    "    for j in range(i):\n",
    "        if(ages[j]>ages[i]):\n",
    "            agevar = ages[i]\n",
    "            ages[i] = ages[j]\n",
    "            ages[j] = agevar\n",
    "print(\"The oldest person among the three is the person with age\",ages[2])"
   ]
  },
  {
   "cell_type": "code",
   "execution_count": null,
   "metadata": {},
   "outputs": [],
   "source": []
  }
 ],
 "metadata": {
  "kernelspec": {
   "display_name": "Python 3",
   "language": "python",
   "name": "python3"
  },
  "language_info": {
   "codemirror_mode": {
    "name": "ipython",
    "version": 3
   },
   "file_extension": ".py",
   "mimetype": "text/x-python",
   "name": "python",
   "nbconvert_exporter": "python",
   "pygments_lexer": "ipython3",
   "version": "3.8.8"
  }
 },
 "nbformat": 4,
 "nbformat_minor": 4
}
